{
 "cells": [
  {
   "cell_type": "code",
   "execution_count": 10,
   "metadata": {},
   "outputs": [],
   "source": [
    "fruits = [{'name':'orange', 'yellow': 350, 'sweet': 450, 'long': 0, 'total': 650},\n",
    "          {'name':'banana', 'yellow': 400, 'sweet': 300, 'long': 350, 'total': 400},\n",
    "          {'name':'others', 'yellow': 50, 'sweet': 100, 'long': 50, 'total': 150},\n",
    "          {'name':'totals', 'yellow': 800, 'sweet': 850, 'long': 400, 'total': 1200}]"
   ]
  },
  {
   "cell_type": "code",
   "execution_count": 14,
   "metadata": {},
   "outputs": [
    {
     "name": "stdout",
     "output_type": "stream",
     "text": [
      "p of orange:  0.5416666666666666\n",
      "p of banana:  0.3333333333333333\n",
      "p of others:  0.125\n"
     ]
    }
   ],
   "source": [
    "# to find probablity of orange\n",
    "# number of occurance / total number of occurance\n",
    "def probabilityof(fruit_name, fruits):\n",
    "    # get the row which is having 'name' as fruit\n",
    "    for row in fruits:\n",
    "        if row['name'] == fruit_name:\n",
    "            no_of_occurance = row['total']\n",
    "        #get the row which is having 'totals'\n",
    "        if row['name'] == 'totals':\n",
    "            total_no_of_occ = row['total']\n",
    "    return no_of_occurance/total_no_of_occ\n",
    "\n",
    "print('p of orange: ', probabilityof('orange',fruits))\n",
    "print('p of banana: ', probabilityof('banana',fruits))\n",
    "print('p of others: ',probabilityof('others',fruits))"
   ]
  },
  {
   "cell_type": "code",
   "execution_count": 17,
   "metadata": {},
   "outputs": [
    {
     "data": {
      "text/plain": [
       "0.0"
      ]
     },
     "execution_count": 17,
     "metadata": {},
     "output_type": "execute_result"
    }
   ],
   "source": [
    "def conditional_p(fruit_type, fruit_name):\n",
    "    \"\"\"\n",
    "    type of fruit and fruit name\n",
    "    \"\"\"\n",
    "    for row in fruits:\n",
    "        if row['name'] == fruit_name:\n",
    "            p1_num = row[fruit_type]\n",
    "            p3_num = row['total']\n",
    "        if row['name'] == 'totals':\n",
    "            p1_denom = row[fruit_type]\n",
    "            p2_num = row[fruit_type]\n",
    "            p2_denom = row['total']\n",
    "            p3_denom = row['total']\n",
    "    p1_val = p1_num/p1_denom\n",
    "    p2_val = p2_num/p2_denom\n",
    "    p3_val = p3_num/p3_denom\n",
    "    p_tot = (p1_val * p2_val) / p3_val\n",
    "    return p_tot\n",
    "\n",
    "# conditional_p('yellow', 'orange')\n",
    "conditional_p('long', 'orange')"
   ]
  },
  {
   "cell_type": "code",
   "execution_count": 22,
   "metadata": {},
   "outputs": [
    {
     "name": "stdout",
     "output_type": "stream",
     "text": [
      "others:  0.07407407407407407\n",
      "orange:  0.0\n",
      "banana:  0.6562500000000001\n"
     ]
    }
   ],
   "source": [
    "def bayes_theo(fruit_type_li, fruit_name):\n",
    "    \"\"\"\n",
    "    given a list of fruit types and fruit name\n",
    "    give the result\n",
    "    \"\"\"\n",
    "    result = 1\n",
    "    for f_type in fruit_type_li:\n",
    "        result = result * conditional_p(f_type, fruit_name)\n",
    "    return result\n",
    "\n",
    "print('others: ',bayes_theo(['yellow', 'sweet', 'long'], 'others'))\n",
    "print('orange: ',bayes_theo(['yellow', 'sweet', 'long'], 'orange'))\n",
    "print('banana: ',bayes_theo(['yellow', 'sweet', 'long'], 'banana'))\n",
    "    "
   ]
  }
 ],
 "metadata": {
  "kernelspec": {
   "display_name": "Python 3",
   "language": "python",
   "name": "python3"
  },
  "language_info": {
   "codemirror_mode": {
    "name": "ipython",
    "version": 3
   },
   "file_extension": ".py",
   "mimetype": "text/x-python",
   "name": "python",
   "nbconvert_exporter": "python",
   "pygments_lexer": "ipython3",
   "version": "3.7.3"
  }
 },
 "nbformat": 4,
 "nbformat_minor": 2
}
