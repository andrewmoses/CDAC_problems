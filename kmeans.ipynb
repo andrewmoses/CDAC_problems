{
 "cells": [
  {
   "cell_type": "code",
   "execution_count": 23,
   "metadata": {},
   "outputs": [
    {
     "data": {
      "text/plain": [
       "[1, 3, 5]"
      ]
     },
     "execution_count": 23,
     "metadata": {},
     "output_type": "execute_result"
    }
   ],
   "source": [
    "ip = [1,3,5,49,50,200,250]\n",
    "k = 3\n",
    "# taking random vals\n",
    "centroids = [ip[i] for i in range(k)]\n",
    "centroids"
   ]
  },
  {
   "cell_type": "code",
   "execution_count": 19,
   "metadata": {},
   "outputs": [],
   "source": [
    "def diff(x,y):\n",
    "    return abs(x-y)\n",
    "\n",
    "def meancalc(clusterlist):\n",
    "    total = 0\n",
    "    for num in clusterlist:\n",
    "        total = total + num\n",
    "    mean = total/len(clusterlist)\n",
    "    return mean\n",
    "\n",
    "def clustering(cluster_lol, ip):\n",
    "    mean_list = [[] for i in range(len(cluster_lol))]\n",
    "    for i in range(len(ip)):\n",
    "        # initialization\n",
    "        low_ind = 0\n",
    "        low_val = cluster_lol[0][i]\n",
    "        for j in range(1,len(cluster_lol)):\n",
    "            if cluster_lol[j][i] < low_val:\n",
    "                low_val = cluster_lol[j][i]\n",
    "                low_ind = j\n",
    "        mean_list[low_ind].append(ip[i])\n",
    "    return mean_list\n",
    "\n",
    "# sam_clol = [[0,2,3,48,49,199,249],[2,0,2,46,47,197,247],[4,2,0,44,45,195,245]]\n",
    "# clustering(sam_clol, ip)\n",
    "def is_c_changed(new_centroids, old_centroids):\n",
    "    for i in range(len(old_centroids)):\n",
    "        if old_centroids[i] != new_centroids[i]:\n",
    "            return True\n",
    "    return False"
   ]
  },
  {
   "cell_type": "code",
   "execution_count": 24,
   "metadata": {},
   "outputs": [
    {
     "name": "stdout",
     "output_type": "stream",
     "text": [
      "3.0  :  [1, 3, 5]\n",
      "49.5  :  [49, 50]\n",
      "225.0  :  [200, 250]\n"
     ]
    }
   ],
   "source": [
    "while True:\n",
    "    interim_mat = []\n",
    "    for c in centroids:\n",
    "        tmp_list = []\n",
    "        for num in ip:\n",
    "            diff_val = diff(c,num)\n",
    "            tmp_list.append(diff_val)\n",
    "        interim_mat.append(tmp_list)\n",
    "    cluster_mat = clustering(interim_mat, ip)\n",
    "    new_centroids = []\n",
    "    for i_list in cluster_mat:\n",
    "        cal_mean = meancalc(i_list)\n",
    "        new_centroids.append(cal_mean)\n",
    "    #check if centroids changed or not\n",
    "    if is_c_changed(new_centroids, centroids):\n",
    "        centroids = new_centroids\n",
    "    else:\n",
    "        break\n",
    "\n",
    "# print the cluster_mat\n",
    "c_ind = 0\n",
    "for i_list in cluster_mat:\n",
    "    print(centroids[c_ind], \" : \", i_list)\n",
    "    c_ind = c_ind + 1"
   ]
  }
 ],
 "metadata": {
  "kernelspec": {
   "display_name": "Python 3",
   "language": "python",
   "name": "python3"
  },
  "language_info": {
   "codemirror_mode": {
    "name": "ipython",
    "version": 3
   },
   "file_extension": ".py",
   "mimetype": "text/x-python",
   "name": "python",
   "nbconvert_exporter": "python",
   "pygments_lexer": "ipython3",
   "version": "3.7.3"
  }
 },
 "nbformat": 4,
 "nbformat_minor": 2
}
