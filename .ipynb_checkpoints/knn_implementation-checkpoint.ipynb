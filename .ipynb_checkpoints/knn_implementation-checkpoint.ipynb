{
 "cells": [
  {
   "cell_type": "code",
   "execution_count": 1,
   "metadata": {},
   "outputs": [],
   "source": [
    "def diffmatrix(training_data, to_predict):\n",
    "    \"\"\"\n",
    "    to get the difference between to_predict and the training data\n",
    "    \"\"\"\n",
    "    diff_mat = []\n",
    "    for data in training_data:\n",
    "        tmp_dict = {}\n",
    "        diff = abs(data['radius'] - to_predict)\n",
    "        tmp_dict['label'] = data['label']\n",
    "        tmp_dict['diff'] = diff\n",
    "        diff_mat.append(tmp_dict)\n",
    "    return diff_mat\n",
    "\n",
    "# diff_mat = diffmatrix(training_data, to_predict)\n",
    "def getklabels(diff_mat, k):\n",
    "    \"\"\"\n",
    "    sort the diff_mat and return the top k items of diff_mat\n",
    "    \"\"\"\n",
    "    sorted_diff_mat = sorted(diff_mat, key=lambda k: k['diff']) \n",
    "    return sorted_diff_mat[:k]\n",
    "\n",
    "# sorted_diff_mat = getklabels(diff_mat, k)\n",
    "# print(sorted_diff_mat)\n",
    "def countof_each_labels(sorted_diff_mat):\n",
    "    p_labels = {}\n",
    "    for p_pt in sorted_diff_mat:\n",
    "        # check if label is present already in p_labels\n",
    "        if not p_pt['label'] in p_labels:\n",
    "            p_labels[p_pt['label']] = 1\n",
    "        else:\n",
    "            p_labels[p_pt['label']] = p_labels[p_pt['label']] + 1\n",
    "    # convert dict to list to do sorting\n",
    "    req_list = []\n",
    "    for each in p_labels:\n",
    "        tmp_dict = {}\n",
    "        tmp_dict['label'] = each\n",
    "        tmp_dict['count'] = p_labels[each]\n",
    "        req_list.append(tmp_dict)\n",
    "    return req_list\n",
    "\n",
    "# label_count_dict = countof_each_labels(sorted_diff_mat)\n",
    "# label_count_dict"
   ]
  },
  {
   "cell_type": "code",
   "execution_count": 2,
   "metadata": {},
   "outputs": [
    {
     "name": "stdout",
     "output_type": "stream",
     "text": [
      "[{'label': 'orange', 'diff': 148}, {'label': 'orange', 'diff': 145}, {'label': 'orange', 'diff': 143}, {'label': 'watermelon', 'diff': 100}, {'label': 'watermelon', 'diff': 95}, {'label': 'watermelon', 'diff': 90}, {'label': 'grape', 'diff': 149.5}, {'label': 'grape', 'diff': 149.8}, {'label': 'grape', 'diff': 149.3}]\n",
      "******************************\n",
      "[{'label': 'watermelon', 'diff': 90}, {'label': 'watermelon', 'diff': 95}, {'label': 'watermelon', 'diff': 100}]\n",
      "******************************\n",
      "[{'label': 'watermelon', 'count': 3}]\n",
      "******************************\n",
      "watermelon\n"
     ]
    }
   ],
   "source": [
    "# training data (ip)\n",
    "training_data = [{'label': 'orange', 'radius': 2}, \n",
    "                 {'label': 'orange', 'radius': 5}, \n",
    "                 {'label': 'orange', 'radius': 7}, \n",
    "                 {'label': 'watermelon', 'radius': 50},\n",
    "                 {'label': 'watermelon', 'radius': 55},\n",
    "                 {'label': 'watermelon', 'radius': 60},\n",
    "                 {'label': 'grape', 'radius': 0.5},\n",
    "                 {'label': 'grape', 'radius': 0.2},\n",
    "                 {'label': 'grape', 'radius': 0.7}]\n",
    "\n",
    "to_predict = 150\n",
    "k = 3\n",
    "diff_mat = diffmatrix(training_data, to_predict)\n",
    "print(diff_mat)\n",
    "print(\"*\"*30)\n",
    "sorted_diff_mat = getklabels(diff_mat, k)\n",
    "print(sorted_diff_mat)\n",
    "print(\"*\"*30)\n",
    "label_count_dict = countof_each_labels(sorted_diff_mat)\n",
    "print(label_count_dict)\n",
    "label_count_dict_sorted = sorted(label_count_dict, key=lambda k: k['count']) \n",
    "print(\"*\"*30)\n",
    "print(label_count_dict_sorted[len(label_count_dict_sorted)-1]['label'])"
   ]
  }
 ],
 "metadata": {
  "kernelspec": {
   "display_name": "Python 3",
   "language": "python",
   "name": "python3"
  },
  "language_info": {
   "codemirror_mode": {
    "name": "ipython",
    "version": 3
   },
   "file_extension": ".py",
   "mimetype": "text/x-python",
   "name": "python",
   "nbconvert_exporter": "python",
   "pygments_lexer": "ipython3",
   "version": "3.7.3"
  }
 },
 "nbformat": 4,
 "nbformat_minor": 2
}
