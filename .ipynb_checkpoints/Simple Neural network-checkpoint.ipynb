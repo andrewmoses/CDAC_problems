{
 "cells": [
  {
   "cell_type": "code",
   "execution_count": null,
   "metadata": {},
   "outputs": [],
   "source": [
    "# scenario\n",
    "# 3 inputs: maths, science, social\n",
    "# 1 output: will choose engineering or not\n",
    "# 1 - Good / will choose\n",
    "# 0 - not goood / will not choose\n",
    "# training data\n",
    "x = [[0,0,1],\n",
    "     [1,1,0],\n",
    "     [1,0,1],\n",
    "     [0,1,1],\n",
    "     [1,1,1]]\n",
    "y = [0,1,1,0,1]\n",
    "initial_weights = [0.5,0.5,0.5]\n"
   ]
  }
 ],
 "metadata": {
  "kernelspec": {
   "display_name": "Python 3",
   "language": "python",
   "name": "python3"
  },
  "language_info": {
   "codemirror_mode": {
    "name": "ipython",
    "version": 3
   },
   "file_extension": ".py",
   "mimetype": "text/x-python",
   "name": "python",
   "nbconvert_exporter": "python",
   "pygments_lexer": "ipython3",
   "version": "3.7.3"
  }
 },
 "nbformat": 4,
 "nbformat_minor": 2
}
