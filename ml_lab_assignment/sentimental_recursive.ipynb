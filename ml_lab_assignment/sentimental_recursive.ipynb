{
 "cells": [
  {
   "cell_type": "code",
   "execution_count": 1,
   "metadata": {},
   "outputs": [
    {
     "name": "stdout",
     "output_type": "stream",
     "text": [
      "Platform: Linux-4.15.0-66-generic-x86_64-with-Ubuntu-16.04-xenial\n",
      "Chainer: 6.5.0\n",
      "ChainerX: Not Available\n",
      "NumPy: 1.17.3\n",
      "CuPy:\n",
      "  CuPy Version          : 6.5.0\n",
      "  CUDA Root             : /usr/local/cuda-10.0\n",
      "  CUDA Build Version    : 10000\n",
      "  CUDA Driver Version   : 10010\n",
      "  CUDA Runtime Version  : 10000\n",
      "  cuDNN Build Version   : 7603\n",
      "  cuDNN Version         : 7603\n",
      "  NCCL Build Version    : 2402\n",
      "  NCCL Runtime Version  : 2402\n",
      "iDeep: Not Available\n"
     ]
    }
   ],
   "source": [
    "import collections\n",
    "import numpy as np\n",
    "\n",
    "import chainer\n",
    "from chainer import cuda\n",
    "import chainer.functions as F\n",
    "import chainer.links as L\n",
    "from chainer.training import extensions\n",
    "from chainer import reporter\n",
    "\n",
    "\n",
    "chainer.print_runtime_info()"
   ]
  },
  {
   "cell_type": "code",
   "execution_count": 3,
   "metadata": {},
   "outputs": [],
   "source": [
    "######### only once. ########\n",
    "import os.path\n",
    "from six.moves.urllib import request\n",
    "import zipfile\n",
    "\n",
    "\n",
    "request.urlretrieve(\n",
    "    'https://nlp.stanford.edu/sentiment/trainDevTestTrees_PTB.zip',\n",
    "    'trainDevTestTrees_PTB.zip')\n",
    "zf = zipfile.ZipFile('trainDevTestTrees_PTB.zip')\n",
    "for name in zf.namelist():\n",
    "    (dirname, filename) = os.path.split(name)\n",
    "    if not filename == '':\n",
    "        zf.extract(name, '.')"
   ]
  },
  {
   "cell_type": "code",
   "execution_count": 2,
   "metadata": {},
   "outputs": [
    {
     "name": "stdout",
     "output_type": "stream",
     "text": [
      "dev.txt  test.txt  train.txt\r\n"
     ]
    }
   ],
   "source": [
    "!ls trees"
   ]
  },
  {
   "cell_type": "code",
   "execution_count": 3,
   "metadata": {},
   "outputs": [
    {
     "name": "stdout",
     "output_type": "stream",
     "text": [
      "(3 (2 It) (4 (4 (2 's) (4 (3 (2 a) (4 (3 lovely) (2 film))) (3 (2 with) (4 (3 (3 lovely) (2 performances)) (2 (2 by) (2 (2 (2 Buy) (2 and)) (2 Accorsi))))))) (2 .)))\r\n"
     ]
    }
   ],
   "source": [
    "!head trees/dev.txt -n1"
   ]
  },
  {
   "cell_type": "code",
   "execution_count": 4,
   "metadata": {},
   "outputs": [],
   "source": [
    "# parameters\n",
    "n_epoch = 100  # number of epochs\n",
    "n_units = 30  # number of units per layer\n",
    "batchsize = 25  # minibatch size\n",
    "n_label = 5  # number of labels\n",
    "epoch_per_eval = 5  # number of epochs per evaluation\n",
    "is_test = True\n",
    "gpu_id = 0\n",
    "\n",
    "if is_test:\n",
    "    max_size = 10\n",
    "else:\n",
    "    max_size = None"
   ]
  },
  {
   "cell_type": "code",
   "execution_count": 5,
   "metadata": {},
   "outputs": [],
   "source": [
    "import codecs\n",
    "import re\n",
    "\n",
    "\n",
    "class SexpParser(object):\n",
    "\n",
    "    def __init__(self, line):\n",
    "        self.tokens = re.findall(r'\\(|\\)|[^\\(\\) ]+', line)\n",
    "        self.pos = 0\n",
    "\n",
    "    def parse(self):\n",
    "        assert self.pos < len(self.tokens)\n",
    "        token = self.tokens[self.pos]\n",
    "        assert token != ')'\n",
    "        self.pos += 1\n",
    "\n",
    "        if token == '(':\n",
    "            children = []\n",
    "            while True:\n",
    "                assert self.pos < len(self.tokens)\n",
    "                if self.tokens[self.pos] == ')':\n",
    "                    self.pos += 1\n",
    "                    break\n",
    "                else:\n",
    "                    children.append(self.parse())\n",
    "            return children\n",
    "        else:\n",
    "            return token\n",
    "\n",
    "\n",
    "def read_corpus(path, max_size):\n",
    "    with codecs.open(path, encoding='utf-8') as f:\n",
    "        trees = []\n",
    "        for line in f:\n",
    "            line = line.strip()\n",
    "            tree = SexpParser(line).parse()\n",
    "            trees.append(tree)\n",
    "            if max_size and len(trees) >= max_size:\n",
    "                break\n",
    "\n",
    "    return trees\n",
    "\n",
    "\n",
    "def convert_tree(vocab, exp):\n",
    "    assert isinstance(exp, list) and (len(exp) == 2 or len(exp) == 3)\n",
    "\n",
    "    if len(exp) == 2:\n",
    "        label, leaf = exp\n",
    "        if leaf not in vocab:\n",
    "            vocab[leaf] = len(vocab)\n",
    "        return {'label': int(label), 'node': vocab[leaf]}\n",
    "    elif len(exp) == 3:\n",
    "        label, left, right = exp\n",
    "        node = (convert_tree(vocab, left), convert_tree(vocab, right))\n",
    "        return {'label': int(label), 'node': node}"
   ]
  },
  {
   "cell_type": "code",
   "execution_count": 6,
   "metadata": {},
   "outputs": [],
   "source": [
    "\n",
    "vocab = {}\n",
    "\n",
    "train_data = [convert_tree(vocab, tree)\n",
    "                        for tree in read_corpus('trees/train.txt', max_size)]\n",
    "train_iter = chainer.iterators.SerialIterator(train_data, batchsize)\n",
    "\n",
    "validation_data = [convert_tree(vocab, tree)\n",
    "                                 for tree in read_corpus('trees/dev.txt', max_size)]\n",
    "validation_iter = chainer.iterators.SerialIterator(validation_data, batchsize,\n",
    "                                                                                   repeat=False, shuffle=False)\n",
    "\n",
    "test_data = [convert_tree(vocab, tree)\n",
    "                        for tree in read_corpus('trees/test.txt', max_size)]"
   ]
  },
  {
   "cell_type": "code",
   "execution_count": 7,
   "metadata": {},
   "outputs": [
    {
     "name": "stdout",
     "output_type": "stream",
     "text": [
      "{'label': 2, 'node': ({'label': 3, 'node': ({'label': 3, 'node': 252}, {'label': 2, 'node': 71})}, {'label': 1, 'node': ({'label': 1, 'node': 253}, {'label': 2, 'node': 254})})}\n"
     ]
    }
   ],
   "source": [
    "print(test_data[0])"
   ]
  },
  {
   "cell_type": "code",
   "execution_count": 8,
   "metadata": {},
   "outputs": [],
   "source": [
    "class RecursiveNet(chainer.Chain):\n",
    "\n",
    "    def traverse(self, node, evaluate=None, root=True):\n",
    "        if isinstance(node['node'], int):\n",
    "            # leaf node\n",
    "            word = self.xp.array([node['node']], np.int32)\n",
    "            loss = 0\n",
    "            v = model.leaf(word)\n",
    "        else:\n",
    "            # internal node\n",
    "            left_node, right_node = node['node']\n",
    "            left_loss, left = self.traverse(left_node, evaluate=evaluate, root=False)\n",
    "            right_loss, right = self.traverse(right_node, evaluate=evaluate, root=False)\n",
    "            v = model.node(left, right)\n",
    "            loss = left_loss + right_loss\n",
    "\n",
    "        y = model.label(v)\n",
    "\n",
    "        label = self.xp.array([node['label']], np.int32)\n",
    "        t = chainer.Variable(label)\n",
    "        loss += F.softmax_cross_entropy(y, t)\n",
    "\n",
    "        predict = cuda.to_cpu(y.data.argmax(1))\n",
    "        if predict[0] == node['label']:\n",
    "            evaluate['correct_node'] += 1\n",
    "        evaluate['total_node'] += 1\n",
    "\n",
    "        if root:\n",
    "            if predict[0] == node['label']:\n",
    "                evaluate['correct_root'] += 1\n",
    "            evaluate['total_root'] += 1\n",
    "\n",
    "        return loss, v\n",
    "\n",
    "    def __init__(self, n_vocab, n_units):\n",
    "        super(RecursiveNet, self).__init__()\n",
    "        with self.init_scope():\n",
    "            self.embed = L.EmbedID(n_vocab, n_units)\n",
    "            self.l = L.Linear(n_units * 2, n_units)\n",
    "            self.w = L.Linear(n_units, n_label)\n",
    "\n",
    "    def leaf(self, x):\n",
    "        return self.embed(x)\n",
    "\n",
    "    def node(self, left, right):\n",
    "        return F.tanh(self.l(F.concat((left, right))))\n",
    "\n",
    "    def label(self, v):\n",
    "        return self.w(v)\n",
    "\n",
    "    def __call__(self, x):\n",
    "        accum_loss = 0.0\n",
    "        result = collections.defaultdict(lambda: 0)\n",
    "        for tree in x:\n",
    "            loss, _ = self.traverse(tree, evaluate=result)\n",
    "            accum_loss += loss\n",
    "\n",
    "        reporter.report({'loss': accum_loss}, self)\n",
    "        reporter.report({'total': result['total_node']}, self)\n",
    "        reporter.report({'correct': result['correct_node']}, self)\n",
    "        return accum_loss"
   ]
  },
  {
   "cell_type": "code",
   "execution_count": 9,
   "metadata": {},
   "outputs": [],
   "source": [
    "model = RecursiveNet(len(vocab), n_units)\n",
    "\n",
    "if gpu_id >= 0:\n",
    "    model.to_gpu()\n",
    "\n",
    "# Setup optimizer\n",
    "optimizer = chainer.optimizers.AdaGrad(lr=0.1)\n",
    "optimizer.setup(model)\n",
    "optimizer.add_hook(chainer.optimizer_hooks.WeightDecay(0.0001))"
   ]
  },
  {
   "cell_type": "code",
   "execution_count": 10,
   "metadata": {},
   "outputs": [
    {
     "name": "stdout",
     "output_type": "stream",
     "text": [
      "epoch       main/loss   validation/main/loss  main/accuracy  validation/main/accuracy  elapsed_time\n",
      "\u001b[J2           2135.57                           0.154585                                 7.00102       \n",
      "\u001b[J5           1316.21     573.718               0.55907        0.415301                  9.32382       \n",
      "\u001b[J7           904.587                           0.730594                                 11.3562       \n",
      "\u001b[J10          1269.65     525.77                0.719111       0.453552                  13.6946       \n",
      "\u001b[J12          909.97                            0.76884                                  15.8759       \n",
      "\u001b[J15          522.208     560.91                0.869105       0.461749                  18.0683       \n",
      "\u001b[J17          421.505                           0.921778                                 20.0697       \n",
      "\u001b[J20          301.606     596.515               0.957991       0.486339                  22.3617       \n",
      "\u001b[J22          252.883                           0.961574                                 24.4027       \n",
      "\u001b[J25          206.456     622.122               0.968057       0.478142                  26.8265       \n",
      "\u001b[J27          173.841                           0.978012                                 28.8942       \n",
      "\u001b[J30          133.501     645.221               0.985226       0.478142                  31.1651       \n",
      "\u001b[J32          114.431                           0.989973                                 33.1673       \n",
      "\u001b[J35          100.752     663.672               0.990205       0.483607                  35.5104       \n",
      "\u001b[J37          83.9367                           0.995467                                 37.4862       \n",
      "\u001b[J40          73.3918     678.042               1              0.486339                  39.8026       \n",
      "\u001b[J42          61.0225                           1                                        41.7297       \n",
      "\u001b[J45          58.7473     689.407               1              0.489071                  44.1417       \n",
      "\u001b[J47          48.4934                           1                                        46.148        \n",
      "\u001b[J50          45.8245     699.051               1              0.486339                  48.4942       \n",
      "\u001b[J52          41.1013                           1                                        50.5578       \n",
      "\u001b[J55          35.2522     706.956               1              0.486339                  52.8623       \n",
      "\u001b[J57          32.8291                           1                                        54.8928       \n",
      "\u001b[J60          30.5141     713.619               1              0.480874                  57.1946       \n",
      "\u001b[J62          28.7523                           1                                        59.286        \n",
      "\u001b[J65          24.937      719.082               1              0.483607                  61.5577       \n",
      "\u001b[J67          23.1039                           1                                        63.5056       \n",
      "\u001b[J70          23.2387     723.832               1              0.478142                  65.9452       \n",
      "\u001b[J72          21.0262                           1                                        67.9796       \n",
      "\u001b[J75          19.5825     728.091               1              0.480874                  70.3135       \n",
      "\u001b[J77          18.0624                           1                                        72.3219       \n",
      "\u001b[J80          17.944      731.851               1              0.480874                  74.6956       \n",
      "\u001b[J82          17.0087                           1                                        76.772        \n",
      "\u001b[J85          15.2577     735.208               1              0.483607                  79.0352       \n",
      "\u001b[J87          13.9942                           1                                        80.9364       \n",
      "\u001b[J90          15.1753     738.211               1              0.486339                  83.4303       \n",
      "\u001b[J92          13.358                            1                                        85.4465       \n",
      "\u001b[J95          13.213      740.9                 1              0.489071                  87.8017       \n",
      "\u001b[J97          12.7262                           1                                        89.869        \n",
      "\u001b[J100         11.6426     743.306               1              0.491803                  92.1879       \n"
     ]
    }
   ],
   "source": [
    "def _convert(batch, device):\n",
    "  return batch\n",
    "\n",
    "updater = chainer.training.StandardUpdater(\n",
    "    train_iter, optimizer, device=gpu_id, converter=_convert)\n",
    "\n",
    "trainer = chainer.training.Trainer(updater, (n_epoch, 'epoch'))\n",
    "trainer.extend(\n",
    "        extensions.Evaluator(validation_iter, model, device=gpu_id, converter=_convert),\n",
    "        trigger=(epoch_per_eval, 'epoch'))\n",
    "trainer.extend(extensions.LogReport())\n",
    "\n",
    "trainer.extend(extensions.MicroAverage(\n",
    "        'main/correct', 'main/total', 'main/accuracy'))\n",
    "trainer.extend(extensions.MicroAverage(\n",
    "        'validation/main/correct', 'validation/main/total',\n",
    "        'validation/main/accuracy'))\n",
    "\n",
    "trainer.extend(extensions.PrintReport(\n",
    "        ['epoch', 'main/loss', 'validation/main/loss',\n",
    "          'main/accuracy', 'validation/main/accuracy', 'elapsed_time']))\n",
    "trainer.run()"
   ]
  },
  {
   "cell_type": "code",
   "execution_count": 11,
   "metadata": {},
   "outputs": [
    {
     "name": "stdout",
     "output_type": "stream",
     "text": [
      "Test evaluation\n",
      " Node accuracy: 51.60 %% (161/312)\n",
      " Root accuracy: 40.00 %% (4/10)\n"
     ]
    }
   ],
   "source": [
    "def evaluate(model, test_trees):\n",
    "    result = collections.defaultdict(lambda: 0)\n",
    "    with chainer.using_config('train', False), chainer.no_backprop_mode():\n",
    "        for tree in test_trees:\n",
    "            model.traverse(tree, evaluate=result)\n",
    "    acc_node = 100.0 * result['correct_node'] / result['total_node']\n",
    "    acc_root = 100.0 * result['correct_root'] / result['total_root']\n",
    "    print(' Node accuracy: {0:.2f} %% ({1:,d}/{2:,d})'.format(\n",
    "        acc_node, result['correct_node'], result['total_node']))\n",
    "    print(' Root accuracy: {0:.2f} %% ({1:,d}/{2:,d})'.format(\n",
    "        acc_root, result['correct_root'], result['total_root']))\n",
    "\n",
    "print('Test evaluation')\n",
    "evaluate(model, test_data)"
   ]
  }
 ],
 "metadata": {
  "kernelspec": {
   "display_name": "Python 3",
   "language": "python",
   "name": "python3"
  },
  "language_info": {
   "codemirror_mode": {
    "name": "ipython",
    "version": 3
   },
   "file_extension": ".py",
   "mimetype": "text/x-python",
   "name": "python",
   "nbconvert_exporter": "python",
   "pygments_lexer": "ipython3",
   "version": "3.5.2"
  }
 },
 "nbformat": 4,
 "nbformat_minor": 2
}
